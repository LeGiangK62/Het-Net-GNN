{
  "cells": [
    {
      "cell_type": "code",
      "execution_count": null,
      "metadata": {
        "colab": {
          "base_uri": "https://localhost:8080/"
        },
        "id": "9HZHDjK9CAYl",
        "outputId": "3cdfb463-b427-40b1-d325-c96a4d52c4da"
      },
      "outputs": [
        {
          "output_type": "stream",
          "name": "stdout",
          "text": [
            "Cloning into 'Het-Net-GNN'...\n",
            "remote: Enumerating objects: 64, done.\u001b[K\n",
            "remote: Counting objects: 100% (64/64), done.\u001b[K\n",
            "remote: Compressing objects: 100% (47/47), done.\u001b[K\n",
            "remote: Total 64 (delta 22), reused 52 (delta 13), pack-reused 0\u001b[K\n",
            "Receiving objects: 100% (64/64), 140.11 KiB | 2.46 MiB/s, done.\n",
            "Resolving deltas: 100% (22/22), done.\n",
            "/content/Het-Net-GNN/Main\n"
          ]
        }
      ],
      "source": [
        "!git clone https://github.com/LeGiangK62/Het-Net-GNN.git\n",
        "%cd Het-Net-GNN/Main"
      ]
    },
    {
      "cell_type": "code",
      "execution_count": null,
      "metadata": {
        "id": "euhBKmR3CSf0"
      },
      "outputs": [],
      "source": [
        "%%capture\n",
        "import torch\n",
        "!pip install torch_geometric\n",
        "\n",
        "# Optional dependencies:\n",
        "if torch.cuda.is_available():\n",
        "  !\n",
        "else:\n",
        "  !pip install pyg_lib torch_scatter torch_sparse torch_cluster torch_spline_conv -f https://data.pyg.org/whl/torch-2.0.0+cpu.html\n",
        "#"
      ]
    },
    {
      "cell_type": "code",
      "execution_count": null,
      "metadata": {
        "id": "PSrar76fCI8E"
      },
      "outputs": [],
      "source": [
        "import torch\n",
        "import numpy as np\n",
        "\n",
        "from torch_geometric.data import HeteroData\n",
        "from torch_geometric.loader import DataLoader\n",
        "\n",
        "\n",
        "from WSN_GNN import generate_channels_wsn\n",
        "from hgt_conv import HGTGNN\n",
        "from het_net_gnn import RGCN"
      ]
    },
    {
      "cell_type": "markdown",
      "metadata": {
        "id": "9cSBfHOVCgbE"
      },
      "source": [
        "# Create HeteroData from the wireless system"
      ]
    },
    {
      "cell_type": "code",
      "source": [
        "import numpy as np\n",
        "\n",
        "# Suppose p_max is a variable in your code\n",
        "p_max = 5.0  # Example value, replace this with your variable\n",
        "\n",
        "# Convert p_max to a NumPy array\n",
        "p_max_array = np.array(1)\n",
        "print(p_max_array)\n",
        "\n",
        "# Check if p_max_array is a scalar or an array\n",
        "if np.isscalar(p_max):\n",
        "    print(\"p_max is a scalar value.\")\n",
        "else:\n",
        "    print(\"p_max is a NumPy array.\")\n"
      ],
      "metadata": {
        "colab": {
          "base_uri": "https://localhost:8080/"
        },
        "id": "7tXIeZSgYXRp",
        "outputId": "e1822697-af74-43e2-da06-42d0ceece65e"
      },
      "execution_count": 29,
      "outputs": [
        {
          "output_type": "stream",
          "name": "stdout",
          "text": [
            "1\n",
            "p_max is a scalar value.\n"
          ]
        }
      ]
    },
    {
      "cell_type": "code",
      "execution_count": 30,
      "metadata": {
        "id": "Lqs7nC0tCOYM"
      },
      "outputs": [],
      "source": [
        "#region Create HeteroData from the wireless system\n",
        "def convert_to_hetero_data(channel_matrices, p_max):\n",
        "    graph_list = []\n",
        "    num_sam, num_aps, num_users = channel_matrices.shape\n",
        "    for i in range(num_sam):\n",
        "        x1 = torch.ones(num_users, 1) * p_max\n",
        "        x2 = torch.zeros(num_users, 1)  # power allocation\n",
        "        x3 = torch.ones((num_users, 1))  # ap selection?\n",
        "        user_feat = torch.cat((x1,x2,x3),1)  # features of user_node\n",
        "        ap_feat = torch.ones(num_aps, num_aps_features)  # features of user_node\n",
        "        edge_feat_uplink = channel_matrices[i, :, :].reshape(-1, 1)\n",
        "        edge_feat_downlink = channel_matrices[i, :, :].reshape(-1, 1)\n",
        "        graph = HeteroData({\n",
        "            'ue': {'x': user_feat},\n",
        "            'ap': {'x': ap_feat}\n",
        "        })\n",
        "        # Create edge types and building the graph connectivity:\n",
        "        graph['ue', 'uplink', 'ap'].edge_attr = torch.tensor(edge_feat_uplink, dtype=torch.float)\n",
        "        graph['ap', 'downlink', 'ue'].edge_attr = torch.tensor(edge_feat_downlink, dtype=torch.float)\n",
        "\n",
        "        graph['ue', 'uplink', 'ap'].edge_index = torch.tensor(adj_matrix(num_users, num_aps).transpose(),\n",
        "                                                              dtype=torch.int64).contiguous()\n",
        "        graph['ap', 'downlink', 'ue'].edge_index = torch.tensor(adj_matrix(num_aps, num_users).transpose(),\n",
        "                                                                dtype=torch.int64).contiguous()\n",
        "\n",
        "        # Swap\n",
        "        # graph['ue', 'uplink', 'ap'].edge_index = torch.tensor(adj_matrix(num_aps, num_users).transpose(),\n",
        "        #                                                       dtype=torch.int64)\n",
        "        # graph['ap', 'downlink', 'ue'].edge_index = torch.tensor(adj_matrix(num_users, num_aps).transpose(),\n",
        "        #                                                         dtype=torch.int64)\n",
        "\n",
        "        # graph['ap', 'downlink', 'ue'].edge_attr  = torch.tensor(edge_feat_downlink, dtype=torch.float)\n",
        "        graph_list.append(graph)\n",
        "    return graph_list\n",
        "\n",
        "\n",
        "def adj_matrix(num_from, num_dest):\n",
        "    adj = []\n",
        "    for i in range(num_from):\n",
        "        for j in range(num_dest):\n",
        "            adj.append([i, j])\n",
        "    return np.array(adj)"
      ]
    },
    {
      "cell_type": "markdown",
      "metadata": {
        "id": "RMJBmS42Ckc-"
      },
      "source": [
        "# Build Heterogeneous GNN"
      ]
    },
    {
      "cell_type": "code",
      "source": [
        "from typing import Dict, List, Optional, Union\n",
        "\n",
        "import torch\n",
        "import torch.nn as nn\n",
        "from torch.nn import Sequential as Seq, Linear as Lin, ReLU, Sigmoid, Softmax, BatchNorm1d as BN\n",
        "from torch import Tensor\n",
        "import torch.nn.functional as F\n",
        "\n",
        "from torch_geometric.nn.conv import MessagePassing, HeteroConv\n",
        "from torch_geometric.nn.module_dict import ModuleDict\n",
        "from torch_geometric.typing import EdgeType, Metadata, NodeType, SparseTensor\n",
        "from torch_geometric.nn.inits import reset"
      ],
      "metadata": {
        "id": "tjLWq3jn9DGW"
      },
      "execution_count": null,
      "outputs": []
    },
    {
      "cell_type": "code",
      "execution_count": null,
      "metadata": {
        "id": "3Oigpa4mCVBk"
      },
      "outputs": [],
      "source": [
        "def mlp(channels, batch_norm=True):\n",
        "    return Seq(*[\n",
        "        Seq(Lin(channels[i - 1], channels[i], bias=True), ReLU())  # , BN(channels[i]))\n",
        "        for i in range(1, len(channels))\n",
        "    ])\n",
        "\n",
        "\n",
        "class EdgeConv(MessagePassing):\n",
        "    def __init__(self, node_dim, edge_dim, metadata: Metadata, aggr='mean', **kwargs):\n",
        "        super(EdgeConv, self).__init__(aggr=aggr)\n",
        "\n",
        "        self.lin_node = ModuleDict()\n",
        "        self.lin_edge = ModuleDict()\n",
        "        self.res_lin = ModuleDict()\n",
        "\n",
        "        for node_type in metadata[0]:\n",
        "            self.lin_node[node_type] = mlp([node_dim, 32])\n",
        "            self.res_lin[node_type] = nn.Linear(node_dim, 32)\n",
        "\n",
        "        for edge_type in metadata[1]:\n",
        "            self.lin_edge['__'.join(edge_type)] = mlp([edge_dim, 32])\n",
        "\n",
        "        self.power_mlp = mlp([32 + 3, 16])\n",
        "        self.power_mlp = Seq(*[self.power_mlp, Seq(Lin(16, 1, bias=True), Sigmoid())])\n",
        "\n",
        "        self.ap_mlp = mlp([32 + 3, 16])\n",
        "        self.ap_mlp = Seq(*[self.ap_mlp, Seq(Lin(16, 1, bias=True), Sigmoid())])\n",
        "\n",
        "        # self.power_mlp = mlp([32 + 3, 1])\n",
        "        # self.ap_mlp = mlp([32 + 3, 1])\n",
        "\n",
        "\n",
        "\n",
        "        self.reset_parameters()\n",
        "\n",
        "    def reset_parameters(self):\n",
        "        super().reset_parameters()\n",
        "        reset(self.lin_node)\n",
        "        reset(self.lin_edge)\n",
        "        reset(self.res_lin)\n",
        "        reset(self.power_mlp)\n",
        "        reset(self.ap_mlp)\n",
        "\n",
        "    def forward(\n",
        "        self,\n",
        "        x_dict: Dict[NodeType, Tensor],\n",
        "        edge_index_dict: Union[Dict[EdgeType, Tensor],\n",
        "                               Dict[EdgeType, SparseTensor]],  # Support both.\n",
        "        edge_attr_dict: Union[Dict[EdgeType, Tensor],\n",
        "                              Dict[EdgeType, SparseTensor]]\n",
        "    ) -> Dict[NodeType, Optional[Tensor]]:\n",
        "        # How to get the edge attributes from only the index?\n",
        "        lin_node_dict, lin_edge_dict, out_dict = {}, {}, {}\n",
        "        # Iterate over node-types to initialize the output dictionary\n",
        "        for node_type, node_ft in x_dict.items():\n",
        "            lin_node_dict[node_type] = self.lin_node[node_type](node_ft)\n",
        "            out_dict[node_type] = []\n",
        "\n",
        "        # Iterate over edge-types:\n",
        "        for edge_type, edge_index in edge_index_dict.items():\n",
        "            # aggregate information to the destination node\n",
        "            # for each type of edge\n",
        "            edge_attr = edge_attr_dict[edge_type]\n",
        "            src_type, _, dst_type = edge_type\n",
        "            edge_type = '__'.join(edge_type)\n",
        "            x_j = x_dict[src_type]\n",
        "            x_i = x_dict[dst_type]\n",
        "\n",
        "            out = self.propagate(edge_index, x=x_j, node_feat=x_i, src_type=src_type, edge_type=edge_type,\n",
        "                                 dst_type=dst_type, edge_attr=edge_attr, size=(x_j.shape[0], x_i.shape[0]))\n",
        "            out_dict[dst_type] = out\n",
        "\n",
        "        # Iterate over node-types:\n",
        "        # for node_type, outs in out_dict.items():\n",
        "            # out = group(outs, self.group)\n",
        "            #\n",
        "            # if out is None:\n",
        "            #     out_dict[node_type] = None\n",
        "            #     continue\n",
        "            #\n",
        "            # out = self.a_lin[node_type](F.gelu(out))\n",
        "            # if out.size(-1) == x_dict[node_type].size(-1):\n",
        "            #     alpha = self.skip[node_type].sigmoid()\n",
        "            #     out = alpha * out + (1 - alpha) * x_dict[node_type]\n",
        "            # out_dict[node_type] = out\n",
        "\n",
        "        return out_dict\n",
        "\n",
        "    # def message(self, x_j: Tensor, src_type, edge_type, node_mlp, edge_rel) -> Tensor:\n",
        "    def message(self, x_j: Tensor, src_type, edge_type, edge_attr) -> Tensor:\n",
        "        # This function is called when we use self.propagate - Used the given parameters too.\n",
        "        # What each neighbor node send to target along the edges\n",
        "        # Adding the edge relation here\n",
        "        node_mlp = self.lin_node[src_type]\n",
        "        edge_mlp = self.lin_edge[edge_type]\n",
        "        return node_mlp(x_j) + edge_mlp(edge_attr)\n",
        "\n",
        "    def update(self, aggr_out, node_feat, dst_type, edge_index):\n",
        "        # Update node representations with the aggregated messages\n",
        "        # aggr_out  = output of aggregation function, the following is the input of the propagation function\n",
        "        power_max = node_feat[:, 0]\n",
        "        node_mlp = self.lin_node[dst_type]\n",
        "        res = node_mlp(node_feat)\n",
        "        tmp = torch.cat([node_feat, aggr_out + res], dim=1)\n",
        "        power = self.power_mlp(tmp)\n",
        "        ap_selection = self.ap_mlp(tmp)\n",
        "        return torch.cat([power_max.unsqueeze(-1), power, ap_selection], dim=1)\n",
        "\n",
        "\n",
        "class RGCN(nn.Module):\n",
        "    def __init__(self, dataset, num_layers):\n",
        "        # The only things need to fix here are the dimensions\n",
        "        super().__init__()\n",
        "        self.convs = torch.nn.ModuleList()\n",
        "        self.mlp = mlp([32, 16])\n",
        "        for _ in range(num_layers):\n",
        "            conv = EdgeConv(node_dim=3, edge_dim=1,\n",
        "                            metadata=dataset.metadata())\n",
        "            self.convs.append(conv)\n",
        "\n",
        "\n",
        "    def forward(self, x_dict, edge_index_dict, edge_attr_dict):\n",
        "        for conv in self.convs:\n",
        "            x_dict = conv(x_dict=x_dict, edge_index_dict=edge_index_dict, edge_attr_dict=edge_attr_dict)\n",
        "            # x_dict = {key: x.relu() for key, x in x_dict.items()}\n",
        "        return x_dict\n",
        "\n"
      ]
    },
    {
      "cell_type": "markdown",
      "metadata": {
        "id": "xARv-2yLCnwN"
      },
      "source": [
        "# Training and Testing functions"
      ]
    },
    {
      "cell_type": "code",
      "execution_count": 67,
      "metadata": {
        "id": "3zupX9hyCXoc"
      },
      "outputs": [],
      "source": [
        "#region Training and Testing functions\n",
        "def loss_function(output, batch, size, is_train=True):\n",
        "\n",
        "    device = torch.device('cuda' if torch.cuda.is_available() else 'cpu')\n",
        "    num_ue, num_ap, batch_size = size\n",
        "\n",
        "    output = torch.reshape(output, (batch_size, num_ue, -1))\n",
        "    ##\n",
        "    channel_matrix = batch['ue', 'ap']['edge_attr']\n",
        "    ##\n",
        "    power_max = output[:, :,0]\n",
        "    power = output[:, :, 1] * power_max\n",
        "    ap_selection = output[:, :, 2] * num_ap\n",
        "    # power_max = batch['ue']['x'][:, 0]\n",
        "    # power = batch['ue']['x'][:, 1]\n",
        "    # ap_selection = batch['ue']['x'][:, 2]\n",
        "    ##\n",
        "    ap_selection = ap_selection.int()\n",
        "\n",
        "    G = torch.reshape(channel_matrix, (-1, num_ap, num_ue))\n",
        "    # P = torch.reshape(power, (-1, num_ap, num_user)) #* p_max\n",
        "    P = torch.zeros_like(G, requires_grad=True).clone()\n",
        "    P[torch.arange(batch_size).unsqueeze(1), ap_selection, torch.arange(num_ue)] = power\n",
        "\n",
        "    ##\n",
        "    # new_noise = torch.from_numpy(noise_matrix).to(device)\n",
        "    desired_signal = torch.sum(torch.mul(P, G), dim=1).unsqueeze(-1)\n",
        "    G_UE = torch.sum(G, dim=2).unsqueeze(-1)\n",
        "    all_signal = torch.matmul(P.permute((0,2,1)), G_UE)\n",
        "    interference = all_signal - desired_signal  # + new_noise\n",
        "    rate = torch.log(1 + torch.div(desired_signal, interference))\n",
        "    sum_rate = torch.mean(torch.sum(rate, 1))\n",
        "    mean_power = torch.mean(torch.sum(P.permute((0,2,1)), 1))\n",
        "\n",
        "    if is_train:\n",
        "        return torch.neg(sum_rate )#/ mean_power)\n",
        "    else:\n",
        "        return sum_rate #/ mean_power\n",
        "\n",
        "\n",
        "def train(data_loader):\n",
        "    model.train()\n",
        "    device_type = torch.device('cuda' if torch.cuda.is_available() else 'cpu')\n",
        "    total_examples = total_loss = 0\n",
        "    for batch in data_loader:\n",
        "        optimizer.zero_grad()\n",
        "        batch = batch.to(device_type)\n",
        "        #\n",
        "        num_ues = batch['ue'].num_nodes\n",
        "        num_aps = batch['ap'].num_nodes\n",
        "        num_edges = batch['ue', 'ap'].num_edges\n",
        "        batch_size = int(num_ues * num_aps / num_edges)\n",
        "        num_ues = int(num_ues / batch_size)\n",
        "        num_aps = int(num_aps / batch_size)\n",
        "        #\n",
        "        out = model(batch.x_dict, batch.edge_index_dict, batch.edge_attr_dict)\n",
        "        out = out['ue']\n",
        "        tmp_loss = loss_function(out, batch, (num_ues, num_aps, batch_size), True)\n",
        "        tmp_loss.backward()\n",
        "        optimizer.step()\n",
        "        total_examples += batch_size\n",
        "        total_loss += float(tmp_loss) * batch_size\n",
        "\n",
        "    return total_loss / total_examples\n",
        "\n",
        "\n",
        "def test(data_loader):\n",
        "    model.eval()\n",
        "    device_type = torch.device('cuda' if torch.cuda.is_available() else 'cpu')\n",
        "    total_examples = total_loss = 0\n",
        "    for batch in data_loader:\n",
        "        batch = batch.to(device_type)\n",
        "        #\n",
        "        num_ues = batch['ue'].num_nodes\n",
        "        num_aps = batch['ap'].num_nodes\n",
        "        num_edges = batch['ue', 'ap'].num_edges\n",
        "        batch_size = int(num_ues * num_aps / num_edges)\n",
        "        num_ues = int(num_ues / batch_size)\n",
        "        num_aps = int(num_aps / batch_size)\n",
        "        #\n",
        "        out = model(batch.x_dict, batch.edge_index_dict, batch.edge_attr_dict)\n",
        "        out = out['ue']\n",
        "        tmp_loss = loss_function(out, batch, (num_ues, num_aps, batch_size), False)\n",
        "        total_examples += batch_size\n",
        "        total_loss += float(tmp_loss) * batch_size\n",
        "\n",
        "    return total_loss / total_examples\n",
        "#endregion"
      ]
    },
    {
      "cell_type": "markdown",
      "metadata": {
        "id": "jYnfbYmsCa59"
      },
      "source": [
        "# Main"
      ]
    },
    {
      "cell_type": "code",
      "execution_count": 35,
      "metadata": {
        "id": "7acs4Y0uCdoD"
      },
      "outputs": [],
      "source": [
        "K = 3  # number of APs\n",
        "N = 5  # number of nodes\n",
        "R = 10  # radius\n",
        "\n",
        "num_users_features = 3\n",
        "num_aps_features = 3\n",
        "\n",
        "num_train = 500  # number of training samples\n",
        "num_test = 40  # number of test samples\n",
        "\n",
        "reg = 1e-2\n",
        "pmax = 1\n",
        "var_db = 10\n",
        "var = 1 / 10 ** (var_db / 10)\n",
        "var_noise = 10e-11\n",
        "\n",
        "power_threshold = 2.0\n",
        "\n",
        "X_train, noise_train, pos_train, adj_train, index_train = generate_channels_wsn(K, N, num_train, var_noise, R)\n",
        "X_test, noise_test, pos_test, adj_test, index_test = generate_channels_wsn(K + 1, N + 1, num_test, var_noise, R)"
      ]
    },
    {
      "cell_type": "code",
      "execution_count": 36,
      "metadata": {
        "id": "hCH-zKEADSQ8"
      },
      "outputs": [],
      "source": [
        "# Maybe need normalization here\n",
        "train_data = convert_to_hetero_data(X_train, power_threshold)\n",
        "test_data = convert_to_hetero_data(X_test, power_threshold)\n",
        "\n",
        "batchSize = 64\n",
        "\n",
        "train_loader = DataLoader(train_data, batchSize, shuffle=True, num_workers=1)\n",
        "test_loader = DataLoader(test_data, batchSize, shuffle=True, num_workers=1)"
      ]
    },
    {
      "cell_type": "code",
      "execution_count": 41,
      "metadata": {
        "id": "0_RqWpsQDVmV"
      },
      "outputs": [],
      "source": [
        "device = torch.device('cuda' if torch.cuda.is_available() else 'cpu')\n",
        "\n",
        "data = train_data[0]\n",
        "data = data.to(device)\n",
        "\n",
        "# model = HGTGNN(data, hidden_channels=64, out_channels=4, num_heads=2, num_layers=1)\n",
        "# model = model.to(device)\n",
        "\n",
        "model = RGCN(data, num_layers=2)  # input data for the metadata (list of node types and edge types)\n",
        "model = model.to(device)\n",
        "\n",
        "# # # print(data.edge_index_dict)\n",
        "with torch.no_grad():\n",
        "    output = model(data.x_dict, data.edge_index_dict, data.edge_attr_dict)\n",
        "# print(output)"
      ]
    },
    {
      "cell_type": "markdown",
      "metadata": {
        "id": "QJYiXcE9Cs2M"
      },
      "source": [
        "## Training and testing"
      ]
    },
    {
      "cell_type": "code",
      "source": [
        "optimizer = torch.optim.Adam(model.parameters(), lr=0.1)\n",
        "scheduler = torch.optim.lr_scheduler.StepLR(optimizer, step_size=20, gamma=0.9)\n",
        "for epoch in range(1, 100):\n",
        "    loss = train(train_loader)\n",
        "    test_acc = test(test_loader)\n",
        "    if (epoch % 10 == 1):\n",
        "      print(f'Epoch: {epoch:03d}, Train Loss: {loss:.4f}, Test Reward: {test_acc:.4f}')"
      ],
      "metadata": {
        "colab": {
          "base_uri": "https://localhost:8080/"
        },
        "id": "1Fns4v3J9Pwd",
        "outputId": "9a3b8b72-1fd4-4f41-b968-06481c3eba62"
      },
      "execution_count": 42,
      "outputs": [
        {
          "output_type": "stream",
          "name": "stdout",
          "text": [
            "Epoch: 001, Train Loss: -1.9734, Test Reward: 2.3622\n",
            "Epoch: 011, Train Loss: -1.9734, Test Reward: 2.3623\n",
            "Epoch: 021, Train Loss: -1.9734, Test Reward: 2.3622\n",
            "Epoch: 031, Train Loss: -1.9734, Test Reward: 2.3621\n",
            "Epoch: 041, Train Loss: -1.9734, Test Reward: 2.3622\n",
            "Epoch: 051, Train Loss: -1.9734, Test Reward: 2.3623\n",
            "Epoch: 061, Train Loss: -1.9734, Test Reward: 2.3621\n",
            "Epoch: 071, Train Loss: -1.9734, Test Reward: 2.3621\n",
            "Epoch: 081, Train Loss: -1.9734, Test Reward: 2.3623\n",
            "Epoch: 091, Train Loss: -1.9734, Test Reward: 2.3618\n"
          ]
        }
      ]
    },
    {
      "cell_type": "markdown",
      "source": [
        "## Testing Part"
      ],
      "metadata": {
        "id": "uscoZhl4RV54"
      }
    },
    {
      "cell_type": "code",
      "source": [
        "!pip install torchviz"
      ],
      "metadata": {
        "id": "b9Plwca0QtNH"
      },
      "execution_count": null,
      "outputs": []
    },
    {
      "cell_type": "code",
      "source": [
        "from torchviz import make_dot\n",
        "\n",
        "input = data.x_dict\n",
        "output = model(data.x_dict, data.edge_index_dict, data.edge_attr_dict)\n",
        "graph = make_dot(output['ue'], params=dict(model.named_parameters()))\n",
        "graph.view()"
      ],
      "metadata": {
        "colab": {
          "base_uri": "https://localhost:8080/",
          "height": 35
        },
        "id": "kXlg3fa-QkOR",
        "outputId": "53058099-34b7-40d8-b586-9e1245eb3830"
      },
      "execution_count": null,
      "outputs": [
        {
          "output_type": "execute_result",
          "data": {
            "text/plain": [
              "'Digraph.gv.pdf'"
            ],
            "application/vnd.google.colaboratory.intrinsic+json": {
              "type": "string"
            }
          },
          "metadata": {},
          "execution_count": 17
        }
      ]
    },
    {
      "cell_type": "code",
      "source": [
        "device_type = torch.device('cuda' if torch.cuda.is_available() else 'cpu')\n",
        "for batch in train_loader:\n",
        "    optimizer.zero_grad()\n",
        "    batch = batch.to(device_type)"
      ],
      "metadata": {
        "id": "_hCcnu5SRi-4"
      },
      "execution_count": 55,
      "outputs": []
    },
    {
      "cell_type": "code",
      "source": [
        "batch.batch_size"
      ],
      "metadata": {
        "colab": {
          "base_uri": "https://localhost:8080/",
          "height": 287
        },
        "id": "mCAdvY5o4cCk",
        "outputId": "b09594ce-bd1b-4c6d-83c2-2d62cc9372fc"
      },
      "execution_count": 66,
      "outputs": [
        {
          "output_type": "error",
          "ename": "AttributeError",
          "evalue": "ignored",
          "traceback": [
            "\u001b[0;31m---------------------------------------------------------------------------\u001b[0m",
            "\u001b[0;31mAttributeError\u001b[0m                            Traceback (most recent call last)",
            "\u001b[0;32m<ipython-input-66-fb60565d5353>\u001b[0m in \u001b[0;36m<cell line: 1>\u001b[0;34m()\u001b[0m\n\u001b[0;32m----> 1\u001b[0;31m \u001b[0mbatch\u001b[0m\u001b[0;34m.\u001b[0m\u001b[0mbatch_size\u001b[0m\u001b[0;34m\u001b[0m\u001b[0;34m\u001b[0m\u001b[0m\n\u001b[0m",
            "\u001b[0;32m/usr/local/lib/python3.10/dist-packages/torch_geometric/data/hetero_data.py\u001b[0m in \u001b[0;36m__getattr__\u001b[0;34m(self, key)\u001b[0m\n\u001b[1;32m    135\u001b[0m         \u001b[0;32melif\u001b[0m \u001b[0mbool\u001b[0m\u001b[0;34m(\u001b[0m\u001b[0mre\u001b[0m\u001b[0;34m.\u001b[0m\u001b[0msearch\u001b[0m\u001b[0;34m(\u001b[0m\u001b[0;34m'_dict$'\u001b[0m\u001b[0;34m,\u001b[0m \u001b[0mkey\u001b[0m\u001b[0;34m)\u001b[0m\u001b[0;34m)\u001b[0m\u001b[0;34m:\u001b[0m\u001b[0;34m\u001b[0m\u001b[0;34m\u001b[0m\u001b[0m\n\u001b[1;32m    136\u001b[0m             \u001b[0;32mreturn\u001b[0m \u001b[0mself\u001b[0m\u001b[0;34m.\u001b[0m\u001b[0mcollect\u001b[0m\u001b[0;34m(\u001b[0m\u001b[0mkey\u001b[0m\u001b[0;34m[\u001b[0m\u001b[0;34m:\u001b[0m\u001b[0;34m-\u001b[0m\u001b[0;36m5\u001b[0m\u001b[0;34m]\u001b[0m\u001b[0;34m)\u001b[0m\u001b[0;34m\u001b[0m\u001b[0;34m\u001b[0m\u001b[0m\n\u001b[0;32m--> 137\u001b[0;31m         raise AttributeError(f\"'{self.__class__.__name__}' has no \"\n\u001b[0m\u001b[1;32m    138\u001b[0m                              f\"attribute '{key}'\")\n\u001b[1;32m    139\u001b[0m \u001b[0;34m\u001b[0m\u001b[0m\n",
            "\u001b[0;31mAttributeError\u001b[0m: 'HeteroDataBatch' has no attribute 'batch_size'"
          ]
        }
      ]
    },
    {
      "cell_type": "code",
      "source": [
        "optimizer.zero_grad()\n",
        "batch = batch.to(device_type)\n",
        "#\n",
        "num_ues = batch['ue'].x.shape[0]\n",
        "num_aps = batch['ap'].x.shape[0]\n",
        "num_edges = batch['ue', 'ap'].edge_index.shape[1]\n",
        "batch_size = int(num_ues * num_aps / num_edges)\n",
        "num_ues = int(num_ues / batch_size)\n",
        "num_aps = int(num_aps / batch_size)\n",
        "#\n",
        "out = model(batch.x_dict, batch.edge_index_dict, batch.edge_attr_dict)\n",
        "out = out['ue']\n",
        "tmp_loss = loss_function(out, batch, (num_ues, num_aps, batch_size), True)\n",
        "tmp_loss.backward()\n",
        "print(batch['ue'].x.requires_grad)\n",
        "optimizer.step()\n",
        "total_examples += batch_size\n",
        "total_loss += float(tmp_loss) * batch_size"
      ],
      "metadata": {
        "colab": {
          "base_uri": "https://localhost:8080/"
        },
        "id": "dZRk4grNRj1o",
        "outputId": "4f726503-60ba-4682-9da2-e77ed3e3745a"
      },
      "execution_count": null,
      "outputs": [
        {
          "output_type": "stream",
          "name": "stdout",
          "text": [
            "False\n"
          ]
        }
      ]
    },
    {
      "cell_type": "code",
      "source": [
        "optimizer = torch.optim.Adam(model.parameters(), lr=0.0001)\n",
        "scheduler = torch.optim.lr_scheduler.StepLR(optimizer, step_size=20, gamma=0.9)\n",
        "for epoch in range(1, 2):\n",
        "  model.train()\n",
        "  device_type = torch.device('cuda' if torch.cuda.is_available() else 'cpu')\n",
        "  total_examples = total_loss = 0\n",
        "  for batch in train_loader:\n",
        "      optimizer.zero_grad()\n",
        "      batch = batch.to(device_type)\n",
        "      break"
      ],
      "metadata": {
        "id": "UTIK4X_b3Owi"
      },
      "execution_count": 43,
      "outputs": []
    },
    {
      "cell_type": "code",
      "source": [
        "#\n",
        "num_ues = batch['ue'].x.shape[0]\n",
        "num_aps = batch['ap'].x.shape[0]\n",
        "num_edges = batch['ue', 'ap'].edge_index.shape[1]\n",
        "batch_size = int(num_ues * num_aps / num_edges)\n",
        "num_ues = int(num_ues / batch_size)\n",
        "num_aps = int(num_aps / batch_size)\n",
        "#\n",
        "out = model(batch.x_dict, batch.edge_index_dict, batch.edge_attr_dict)\n",
        "batch = batch\n",
        "output = out['ue']\n",
        "size = (num_ues, num_aps, batch_size)"
      ],
      "metadata": {
        "id": "hKbgl5rEg7pL"
      },
      "execution_count": 45,
      "outputs": []
    },
    {
      "cell_type": "code",
      "source": [
        "output.shape"
      ],
      "metadata": {
        "colab": {
          "base_uri": "https://localhost:8080/"
        },
        "id": "ZJJEssnQj3sN",
        "outputId": "fb1d8ee2-fd76-4cb5-81e0-f2b46ab12e3e"
      },
      "execution_count": 52,
      "outputs": [
        {
          "output_type": "execute_result",
          "data": {
            "text/plain": [
              "torch.Size([320, 3])"
            ]
          },
          "metadata": {},
          "execution_count": 52
        }
      ]
    },
    {
      "cell_type": "code",
      "source": [
        "num_ue, num_ap, batch_size = size\n",
        "output = torch.reshape(output, (batch_size, num_ue, -1))\n",
        "channel_matrix = batch['ue', 'ap']['edge_attr']\n",
        "power_max = output[:, :,0]\n",
        "power = output[:, :, 1] * power_max\n",
        "ap_selection = output[:, :, 2] * num_ap\n",
        "ap_selection = ap_selection.int()\n",
        "G = torch.reshape(channel_matrix, (-1, num_ap, num_ue))\n",
        "P = torch.zeros_like(G, requires_grad=True).clone()\n",
        "P[torch.arange(batch_size).unsqueeze(1), ap_selection, torch.arange(num_ue)] = power"
      ],
      "metadata": {
        "id": "f-9AJykqhk4U"
      },
      "execution_count": 54,
      "outputs": []
    },
    {
      "cell_type": "code",
      "source": [
        "channel_matrix.shape"
      ],
      "metadata": {
        "colab": {
          "base_uri": "https://localhost:8080/"
        },
        "id": "y1Uf4CUnhueb",
        "outputId": "c444d3f4-61d9-49a6-f959-7c154b21a336"
      },
      "execution_count": 49,
      "outputs": [
        {
          "output_type": "execute_result",
          "data": {
            "text/plain": [
              "torch.Size([960, 1])"
            ]
          },
          "metadata": {},
          "execution_count": 49
        }
      ]
    },
    {
      "cell_type": "code",
      "source": [
        "#region Training and Testing functions\n",
        "def loss_function(output, batch, size, is_train=True):\n",
        "\n",
        "    device = torch.device('cuda' if torch.cuda.is_available() else 'cpu')\n",
        "    num_ue, num_ap, batch_size = size\n",
        "\n",
        "    output = torch.reshape(output, (batch_size, num_ue, -1))\n",
        "    ##\n",
        "    channel_matrix = batch['ue', 'ap']['edge_attr']\n",
        "    ##\n",
        "    power_max = output[:, :,0]\n",
        "    power = output[:, :, 1] * power_max\n",
        "    ap_selection = output[:, :, 2] * num_ap\n",
        "    ##\n",
        "    ap_selection = ap_selection.int()\n",
        "\n",
        "    G = torch.reshape(channel_matrix, (-1, num_ap, num_ue))\n",
        "    P = torch.zeros_like(G, requires_grad=True).clone()\n",
        "    P[torch.arange(batch_size).unsqueeze(1), ap_selection, torch.arange(num_ue)] = power\n",
        "\n",
        "    ##\n",
        "    # new_noise = torch.from_numpy(noise_matrix).to(device)\n",
        "    desired_signal = torch.sum(torch.mul(P, G), dim=1).unsqueeze(-1)\n",
        "    G_UE = torch.sum(G, dim=2).unsqueeze(-1)\n",
        "    all_signal = torch.matmul(P.permute((0,2,1)), G_UE)\n",
        "    interference = all_signal - desired_signal  # + new_noise\n",
        "    rate = torch.log(1 + torch.div(desired_signal, interference))\n",
        "    sum_rate = torch.mean(torch.sum(rate, 1))\n",
        "    mean_power = torch.mean(torch.sum(P.permute((0,2,1)), 1))\n",
        "\n",
        "    if is_train:\n",
        "        return torch.neg(sum_rate )#/ mean_power)\n",
        "    else:\n",
        "        return sum_rate #/ mean_power"
      ],
      "metadata": {
        "id": "KJPiJeXegff7"
      },
      "execution_count": null,
      "outputs": []
    },
    {
      "cell_type": "code",
      "source": [],
      "metadata": {
        "id": "XENoysQl8Lp1"
      },
      "execution_count": null,
      "outputs": []
    },
    {
      "cell_type": "code",
      "source": [
        "batch5"
      ],
      "metadata": {
        "colab": {
          "base_uri": "https://localhost:8080/"
        },
        "id": "MWVnBJtE8NxU",
        "outputId": "7ffb2697-db48-4b56-8014-e81c0b526ea4"
      },
      "execution_count": null,
      "outputs": [
        {
          "output_type": "execute_result",
          "data": {
            "text/plain": [
              "HeteroDataBatch(\n",
              "  \u001b[1mue\u001b[0m={\n",
              "    x=[25, 3],\n",
              "    batch=[25],\n",
              "    ptr=[6]\n",
              "  },\n",
              "  \u001b[1map\u001b[0m={\n",
              "    x=[15, 3],\n",
              "    batch=[15],\n",
              "    ptr=[6]\n",
              "  },\n",
              "  \u001b[1m(ue, uplink, ap)\u001b[0m={\n",
              "    edge_attr=[75, 1],\n",
              "    edge_index=[2, 75]\n",
              "  },\n",
              "  \u001b[1m(ap, downlink, ue)\u001b[0m={\n",
              "    edge_attr=[75, 1],\n",
              "    edge_index=[2, 75]\n",
              "  }\n",
              ")"
            ]
          },
          "metadata": {},
          "execution_count": 67
        }
      ]
    },
    {
      "cell_type": "code",
      "source": [
        "batch2"
      ],
      "metadata": {
        "colab": {
          "base_uri": "https://localhost:8080/"
        },
        "id": "OUOUItUn8SWU",
        "outputId": "2f609963-9a6c-4fa0-8aef-5f7004d60763"
      },
      "execution_count": null,
      "outputs": [
        {
          "output_type": "execute_result",
          "data": {
            "text/plain": [
              "HeteroDataBatch(\n",
              "  \u001b[1mue\u001b[0m={\n",
              "    x=[10, 3],\n",
              "    batch=[10],\n",
              "    ptr=[3]\n",
              "  },\n",
              "  \u001b[1map\u001b[0m={\n",
              "    x=[6, 3],\n",
              "    batch=[6],\n",
              "    ptr=[3]\n",
              "  },\n",
              "  \u001b[1m(ue, uplink, ap)\u001b[0m={\n",
              "    edge_attr=[30, 1],\n",
              "    edge_index=[2, 30]\n",
              "  },\n",
              "  \u001b[1m(ap, downlink, ue)\u001b[0m={\n",
              "    edge_attr=[30, 1],\n",
              "    edge_index=[2, 30]\n",
              "  }\n",
              ")"
            ]
          },
          "metadata": {},
          "execution_count": 57
        }
      ]
    },
    {
      "cell_type": "code",
      "source": [
        "batch"
      ],
      "metadata": {
        "colab": {
          "base_uri": "https://localhost:8080/"
        },
        "id": "uL7e5gET8lVN",
        "outputId": "2ab6e6b3-94ce-4af1-e17a-d77045d7ede6"
      },
      "execution_count": null,
      "outputs": [
        {
          "output_type": "execute_result",
          "data": {
            "text/plain": [
              "HeteroDataBatch(\n",
              "  \u001b[1mue\u001b[0m={\n",
              "    x=[5, 3],\n",
              "    batch=[5],\n",
              "    ptr=[2]\n",
              "  },\n",
              "  \u001b[1map\u001b[0m={\n",
              "    x=[3, 3],\n",
              "    batch=[3],\n",
              "    ptr=[2]\n",
              "  },\n",
              "  \u001b[1m(ue, uplink, ap)\u001b[0m={\n",
              "    edge_attr=[15, 1],\n",
              "    edge_index=[2, 15]\n",
              "  },\n",
              "  \u001b[1m(ap, downlink, ue)\u001b[0m={\n",
              "    edge_attr=[15, 1],\n",
              "    edge_index=[2, 15]\n",
              "  }\n",
              ")"
            ]
          },
          "metadata": {},
          "execution_count": 66
        }
      ]
    },
    {
      "cell_type": "code",
      "source": [
        "num_ues = batch['ue'].x.shape[0]\n",
        "num_aps = batch['ap'].x.shape[0]\n",
        "num_edges = batch['ue', 'ap'].edge_index.shape[1]\n",
        "batch_size = int(num_ues * num_aps / num_edges)"
      ],
      "metadata": {
        "id": "4DMWGnJd88HF"
      },
      "execution_count": null,
      "outputs": []
    },
    {
      "cell_type": "code",
      "source": [
        "batch['ue'].x.shape[0]"
      ],
      "metadata": {
        "colab": {
          "base_uri": "https://localhost:8080/"
        },
        "id": "z2PbE0JV9I91",
        "outputId": "9a00655e-6bfb-4fc2-a640-01d67f0e7d72"
      },
      "execution_count": null,
      "outputs": [
        {
          "output_type": "execute_result",
          "data": {
            "text/plain": [
              "5"
            ]
          },
          "metadata": {},
          "execution_count": 77
        }
      ]
    },
    {
      "cell_type": "code",
      "source": [
        "batch5['ue', 'ap']['edge_attr']"
      ],
      "metadata": {
        "id": "B9MpThvI9o5l"
      },
      "execution_count": null,
      "outputs": []
    },
    {
      "cell_type": "code",
      "source": [
        "ap_selection = torch.tensor([[0, 2, 3, 1, 1],\n",
        "        [0, 0, 1, 3, 2]])\n",
        "power = torch.tensor([[1.2, 0.9, 1.0, 0.5, 1.3],\n",
        "        [1.0, 1.9, 1.5, 1.1, 1.2]])"
      ],
      "metadata": {
        "id": "Al050JgCMSuG"
      },
      "execution_count": null,
      "outputs": []
    },
    {
      "cell_type": "code",
      "source": [
        "P = torch.zeros(2, 4, 5)\n",
        "index = torch.arange(5)"
      ],
      "metadata": {
        "id": "ZkuRcM8PRzcA"
      },
      "execution_count": null,
      "outputs": []
    },
    {
      "cell_type": "code",
      "source": [
        "ap_selection.shape"
      ],
      "metadata": {
        "colab": {
          "base_uri": "https://localhost:8080/"
        },
        "id": "7jApHUpKS2O4",
        "outputId": "b00a6c38-3a8d-4e0a-d56d-53db28eaeff1"
      },
      "execution_count": null,
      "outputs": [
        {
          "output_type": "execute_result",
          "data": {
            "text/plain": [
              "torch.Size([2, 5])"
            ]
          },
          "metadata": {},
          "execution_count": 99
        }
      ]
    },
    {
      "cell_type": "code",
      "source": [
        "P[:, ap_selection[index], index] = power"
      ],
      "metadata": {
        "colab": {
          "base_uri": "https://localhost:8080/",
          "height": 165
        },
        "id": "lh8rHnb-SLvQ",
        "outputId": "1bf088cb-c4ea-4994-a7d1-d12c8e60b7a4"
      },
      "execution_count": null,
      "outputs": [
        {
          "output_type": "error",
          "ename": "IndexError",
          "evalue": "ignored",
          "traceback": [
            "\u001b[0;31m---------------------------------------------------------------------------\u001b[0m",
            "\u001b[0;31mIndexError\u001b[0m                                Traceback (most recent call last)",
            "\u001b[0;32m<ipython-input-94-3af2537778e0>\u001b[0m in \u001b[0;36m<cell line: 1>\u001b[0;34m()\u001b[0m\n\u001b[0;32m----> 1\u001b[0;31m \u001b[0mP\u001b[0m\u001b[0;34m[\u001b[0m\u001b[0;34m:\u001b[0m\u001b[0;34m,\u001b[0m \u001b[0map_selection\u001b[0m\u001b[0;34m[\u001b[0m\u001b[0mindex\u001b[0m\u001b[0;34m]\u001b[0m\u001b[0;34m,\u001b[0m \u001b[0mindex\u001b[0m\u001b[0;34m]\u001b[0m \u001b[0;34m=\u001b[0m \u001b[0mpower\u001b[0m\u001b[0;34m\u001b[0m\u001b[0;34m\u001b[0m\u001b[0m\n\u001b[0m",
            "\u001b[0;31mIndexError\u001b[0m: index 2 is out of bounds for dimension 0 with size 2"
          ]
        }
      ]
    },
    {
      "cell_type": "code",
      "source": [
        "for j in range(2):\n",
        "  for i in range(5):\n",
        "    P[j, ap_selection[j,i], i] = power[j, i]"
      ],
      "metadata": {
        "id": "EzerxXJBSTQg"
      },
      "execution_count": null,
      "outputs": []
    },
    {
      "cell_type": "code",
      "source": [
        "P[torch.arange(2).unsqueeze(1), ap_selection, torch.arange(5)] = power"
      ],
      "metadata": {
        "id": "OoMlWV4RSyTj"
      },
      "execution_count": null,
      "outputs": []
    },
    {
      "cell_type": "code",
      "source": [
        "P"
      ],
      "metadata": {
        "colab": {
          "base_uri": "https://localhost:8080/"
        },
        "id": "E6LFdbMPXYBh",
        "outputId": "5ba4b07d-7e70-42f7-bad6-97d9c8b16036"
      },
      "execution_count": null,
      "outputs": [
        {
          "output_type": "execute_result",
          "data": {
            "text/plain": [
              "tensor([[[1.2000, 0.0000, 0.0000, 0.0000, 0.0000],\n",
              "         [0.0000, 0.0000, 0.0000, 0.5000, 1.3000],\n",
              "         [0.0000, 0.9000, 0.0000, 0.0000, 0.0000],\n",
              "         [0.0000, 0.0000, 1.0000, 0.0000, 0.0000]],\n",
              "\n",
              "        [[1.0000, 1.9000, 0.0000, 0.0000, 0.0000],\n",
              "         [0.0000, 0.0000, 1.5000, 0.0000, 0.0000],\n",
              "         [0.0000, 0.0000, 0.0000, 0.0000, 1.2000],\n",
              "         [0.0000, 0.0000, 0.0000, 1.1000, 0.0000]]])"
            ]
          },
          "metadata": {},
          "execution_count": 120
        }
      ]
    },
    {
      "cell_type": "code",
      "source": [
        "P[torch.arange(2).unsqueeze(-1), ap_selection, index] = power.unsqueeze(-1)"
      ],
      "metadata": {
        "colab": {
          "base_uri": "https://localhost:8080/",
          "height": 165
        },
        "id": "8vEssUvoSrFo",
        "outputId": "3a99363d-4b93-4f36-dee7-fc30893e8292"
      },
      "execution_count": null,
      "outputs": [
        {
          "output_type": "error",
          "ename": "RuntimeError",
          "evalue": "ignored",
          "traceback": [
            "\u001b[0;31m---------------------------------------------------------------------------\u001b[0m",
            "\u001b[0;31mRuntimeError\u001b[0m                              Traceback (most recent call last)",
            "\u001b[0;32m<ipython-input-105-486f7a13ee2b>\u001b[0m in \u001b[0;36m<cell line: 1>\u001b[0;34m()\u001b[0m\n\u001b[0;32m----> 1\u001b[0;31m \u001b[0mP\u001b[0m\u001b[0;34m[\u001b[0m\u001b[0mtorch\u001b[0m\u001b[0;34m.\u001b[0m\u001b[0marange\u001b[0m\u001b[0;34m(\u001b[0m\u001b[0;36m2\u001b[0m\u001b[0;34m)\u001b[0m\u001b[0;34m.\u001b[0m\u001b[0munsqueeze\u001b[0m\u001b[0;34m(\u001b[0m\u001b[0;34m-\u001b[0m\u001b[0;36m1\u001b[0m\u001b[0;34m)\u001b[0m\u001b[0;34m,\u001b[0m \u001b[0map_selection\u001b[0m\u001b[0;34m,\u001b[0m \u001b[0mindex\u001b[0m\u001b[0;34m]\u001b[0m \u001b[0;34m=\u001b[0m \u001b[0mpower\u001b[0m\u001b[0;34m.\u001b[0m\u001b[0munsqueeze\u001b[0m\u001b[0;34m(\u001b[0m\u001b[0;34m-\u001b[0m\u001b[0;36m1\u001b[0m\u001b[0;34m)\u001b[0m\u001b[0;34m\u001b[0m\u001b[0;34m\u001b[0m\u001b[0m\n\u001b[0m",
            "\u001b[0;31mRuntimeError\u001b[0m: shape mismatch: value tensor of shape [2, 5, 1] cannot be broadcast to indexing result of shape [2, 5]"
          ]
        }
      ]
    },
    {
      "cell_type": "code",
      "source": [
        "import torch\n",
        "\n",
        "# Assuming power is a tensor of shape torch.Size([2, 5])\n",
        "power = torch.randn(2, 5)\n",
        "\n",
        "# Assuming ap_selection is a tensor of indices for the second dimension (shape torch.Size([2, 5]))\n",
        "ap_selection = torch.tensor([[0, 1, 2, 3, 1],\n",
        "                            [3, 0, 2, 1, 0]])\n",
        "\n",
        "# Generate the index tensor with torch.arange(5)\n",
        "index = torch.arange(5)\n",
        "\n",
        "# Create P with the desired shape (torch.Size([2, 5, 4]))\n",
        "P = torch.zeros(2, 4, 5)\n",
        "\n",
        "# Use advanced indexing and broadcasting to assign power to P\n",
        "P[torch.arange(2).unsqueeze(1), ap_selection, index] = power\n",
        "\n",
        "print(\"P tensor:\")\n",
        "print(P)"
      ],
      "metadata": {
        "colab": {
          "base_uri": "https://localhost:8080/"
        },
        "id": "ueyAzvgYUemh",
        "outputId": "8d152ab9-7f86-4745-a065-6f298bc59fe9"
      },
      "execution_count": null,
      "outputs": [
        {
          "output_type": "stream",
          "name": "stdout",
          "text": [
            "P tensor:\n",
            "tensor([[[ 2.3820,  0.0000,  0.0000,  0.0000,  0.0000],\n",
            "         [ 0.0000,  0.1026,  0.0000,  0.0000,  0.0937],\n",
            "         [ 0.0000,  0.0000, -0.5394,  0.0000,  0.0000],\n",
            "         [ 0.0000,  0.0000,  0.0000, -0.1625,  0.0000]],\n",
            "\n",
            "        [[ 0.0000, -0.1000,  0.0000,  0.0000,  1.1843],\n",
            "         [ 0.0000,  0.0000,  0.0000, -0.3202,  0.0000],\n",
            "         [ 0.0000,  0.0000,  0.9463,  0.0000,  0.0000],\n",
            "         [ 0.4051,  0.0000,  0.0000,  0.0000,  0.0000]]])\n"
          ]
        }
      ]
    },
    {
      "cell_type": "code",
      "source": [],
      "metadata": {
        "id": "A-4osEToVjQZ"
      },
      "execution_count": null,
      "outputs": []
    }
  ],
  "metadata": {
    "colab": {
      "provenance": []
    },
    "kernelspec": {
      "display_name": "Python 3 (ipykernel)",
      "language": "python",
      "name": "python3"
    },
    "language_info": {
      "codemirror_mode": {
        "name": "ipython",
        "version": 3
      },
      "file_extension": ".py",
      "mimetype": "text/x-python",
      "name": "python",
      "nbconvert_exporter": "python",
      "pygments_lexer": "ipython3",
      "version": "3.9.16"
    }
  },
  "nbformat": 4,
  "nbformat_minor": 0
}